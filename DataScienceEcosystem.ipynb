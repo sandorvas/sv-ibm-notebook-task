{
 "cells": [
  {
   "cell_type": "markdown",
   "id": "0fdae841-e7b2-4bf5-8b40-862724778a95",
   "metadata": {},
   "source": [
    "# Data Science Tools and Ecosystem"
   ]
  },
  {
   "cell_type": "markdown",
   "id": "275a6264-247d-447d-8695-3595370b5af1",
   "metadata": {},
   "source": [
    "In this notebook, Data Science Tools and Ecosystem are summarized."
   ]
  },
  {
   "cell_type": "markdown",
   "id": "bd05b5d7-8672-4a34-aa85-d12af7b28b72",
   "metadata": {},
   "source": [
    "1. Pyrhon\n",
    "2. R\n",
    "3. SQL\n",
    "4. Java\n",
    "5. Julia\n",
    "6. Scala\n",
    "7. JavaScript"
   ]
  },
  {
   "cell_type": "markdown",
   "id": "56123528-ffc8-4813-8e30-50567bfc9013",
   "metadata": {},
   "source": [
    "Some of the commonly used libraries used by Data Scientists include:"
   ]
  },
  {
   "cell_type": "markdown",
   "id": "b30adb77-f0b1-43ee-b40a-0a6460da1c59",
   "metadata": {},
   "source": [
    "- matplotlib\n",
    "- numpy\n",
    "- pandas\n",
    "- seaborn"
   ]
  },
  {
   "cell_type": "markdown",
   "id": "86716e8f-b2ac-4482-a19b-f3f217fbd1d6",
   "metadata": {},
   "source": [
    "| Data Science Tools | \n",
    "|:------------------:|\n",
    "|  Jupyter Notebooks  | \n",
    "|  RStudios  | \n",
    "|  Ggplot2   |  "
   ]
  },
  {
   "cell_type": "markdown",
   "id": "88ded40d-59bb-45a5-84f4-9220c6661ba1",
   "metadata": {},
   "source": [
    "### Below are a few examples of evaluating arithmetic expressions in Python"
   ]
  },
  {
   "cell_type": "code",
   "execution_count": 4,
   "id": "5f9be6b3-4e04-432a-b1bc-2a53c1c90942",
   "metadata": {},
   "outputs": [
    {
     "name": "stdout",
     "output_type": "stream",
     "text": [
      "17\n",
      "17\n"
     ]
    }
   ],
   "source": [
    "# his a simple arithmetic expression to mutiply then add integers\n",
    "print((3 * 4) + 5)\n",
    "x = 3\n",
    "y = 14\n",
    "print(x + y)\n"
   ]
  },
  {
   "cell_type": "code",
   "execution_count": 7,
   "id": "85a9b569-0e8b-4bf6-baac-68a96f777542",
   "metadata": {},
   "outputs": [
    {
     "name": "stdout",
     "output_type": "stream",
     "text": [
      "200 minutes = 3.33 hours\n"
     ]
    }
   ],
   "source": [
    "# This will convert 200 minutes to hours by diving by 60\n",
    "print(f'200 minutes = {200 / 60:.2f} hours')"
   ]
  },
  {
   "cell_type": "markdown",
   "id": "1efac1c2-f542-465b-9787-5b19061fe410",
   "metadata": {},
   "source": [
    "Objectives:\n",
    "- List popular languages for Data Science\n",
    "- Open source tools for data science\n",
    "- python libraries for data science"
   ]
  },
  {
   "cell_type": "markdown",
   "id": "f8ce5a20-611c-48db-9b2b-b31ffe82aec0",
   "metadata": {},
   "source": [
    "## Author\n",
    "Sandor Vas"
   ]
  },
  {
   "cell_type": "code",
   "execution_count": null,
   "id": "4119a8e5-5c6a-4363-b67c-e09b58acce77",
   "metadata": {},
   "outputs": [],
   "source": []
  }
 ],
 "metadata": {
  "kernelspec": {
   "display_name": "Python 3 (ipykernel)",
   "language": "python",
   "name": "python3"
  },
  "language_info": {
   "codemirror_mode": {
    "name": "ipython",
    "version": 3
   },
   "file_extension": ".py",
   "mimetype": "text/x-python",
   "name": "python",
   "nbconvert_exporter": "python",
   "pygments_lexer": "ipython3",
   "version": "3.12.2"
  }
 },
 "nbformat": 4,
 "nbformat_minor": 5
}
